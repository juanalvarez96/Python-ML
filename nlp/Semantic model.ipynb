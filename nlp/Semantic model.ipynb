{
 "cells": [
  {
   "cell_type": "markdown",
   "metadata": {},
   "source": [
    "# Semantic model\n",
    "\n",
    "MOTIVATION: Extract meaningful patterns.\n",
    "Learn how to use some of the most common libraries"
   ]
  },
  {
   "cell_type": "code",
   "execution_count": 2,
   "metadata": {},
   "outputs": [
    {
     "data": {
      "text/plain": [
       "(2034, 2807)"
      ]
     },
     "execution_count": 2,
     "metadata": {},
     "output_type": "execute_result"
    }
   ],
   "source": [
    "from sklearn.datasets import fetch_20newsgroups\n",
    "\n",
    "# We filter only some categories, otherwise we have 20 categories\n",
    "categories = ['alt.atheism', 'talk.religion.misc', 'comp.graphics', 'sci.space']\n",
    "# We remove metadata to avoid bias in the classification. \n",
    "# Get categories info\n",
    "newsgroups_train = fetch_20newsgroups(subset='train', \n",
    "                                      remove=('headers', 'footers', 'quotes'), \n",
    "                                      categories=categories)\n",
    "newsgroups_test = fetch_20newsgroups(subset='test', remove=('headers', 'footers', 'quotes'),\n",
    "                                    categories=categories)\n",
    "\n",
    "\n",
    "# Obtain a vector\n",
    "\n",
    "from sklearn.feature_extraction.text import TfidfVectorizer\n",
    "\n",
    "vectorizer = TfidfVectorizer(analyzer='word', stop_words='english', min_df=10)\n",
    "\n",
    "vectors_train = vectorizer.fit_transform(newsgroups_train.data)\n",
    "vectors_train.shape"
   ]
  },
  {
   "cell_type": "markdown",
   "metadata": {},
   "source": [
    "We are going to use the gensim library instead of Scikit"
   ]
  },
  {
   "cell_type": "code",
   "execution_count": 6,
   "metadata": {},
   "outputs": [],
   "source": [
    "from gensim import matutils\n",
    "\n",
    "vocab = vectorizer.get_feature_names()\n",
    "\n",
    "dictionary = dict([(i,s) for i, s in enumerate(vectorizer.get_feature_names())])\n",
    "corpus_tfidf = matutils.Sparse2Corpus(vectors_train)\n"
   ]
  },
  {
   "cell_type": "markdown",
   "metadata": {},
   "source": [
    "LDA implementation. It is possible to use scikit LDA implementation or gensim. "
   ]
  },
  {
   "cell_type": "code",
   "execution_count": 7,
   "metadata": {},
   "outputs": [],
   "source": [
    "from gensim.models.ldamodel import LdaModel\n",
    "\n",
    "# Train lda model. 4 topics\n",
    "lda = LdaModel(corpus_tfidf, num_topics=4, passes = 20, id2word=dictionary)"
   ]
  },
  {
   "cell_type": "code",
   "execution_count": 8,
   "metadata": {},
   "outputs": [
    {
     "data": {
      "text/plain": [
       "[(0,\n",
       "  '0.006*car + 0.006*england + 0.005*closely + 0.005*beginning + 0.005*groups + 0.005*center + 0.005*maintain + 0.005*evil + 0.005*archie + 0.005*dealing'),\n",
       " (1,\n",
       "  '0.003*platform + 0.003*frank + 0.003*mechanism + 0.003*led + 0.003*kind + 0.003*month + 0.003*forces + 0.003*profit + 0.002*fellow + 0.002*contradict'),\n",
       " (2,\n",
       "  '0.004*primary + 0.004*mar + 0.004*contains + 0.004*deleted + 0.004*geometry + 0.004*produced + 0.004*deep + 0.004*believe + 0.004*ok + 0.004*animal'),\n",
       " (3,\n",
       "  '0.003*objects + 0.003*activity + 0.002*manhattan + 0.002*obtained + 0.002*eyes + 0.002*color + 0.002*netters + 0.002*complex + 0.002*missions + 0.002*education')]"
      ]
     },
     "execution_count": 8,
     "metadata": {},
     "output_type": "execute_result"
    }
   ],
   "source": [
    "# Check topics\n",
    "lda.print_topics(4)"
   ]
  },
  {
   "cell_type": "markdown",
   "metadata": {},
   "source": [
    "Now we need to translate the corpus previously defined in scikit to LSI. So, create corpus with Gensim."
   ]
  },
  {
   "cell_type": "code",
   "execution_count": 11,
   "metadata": {},
   "outputs": [],
   "source": [
    "# 1. Import the gensim.corpora module to generate dictionary\n",
    "from gensim import corpora\n",
    "from nltk import word_tokenize\n",
    "from nltk.corpus import stopwords\n",
    "from nltk import RegexpTokenizer\n",
    "import string\n",
    "\n",
    "def preprocess(words):\n",
    "    tokenizer = RegexpTokenizer('[A-Z]\\w+')\n",
    "    tokens = [w.lower() for w in tokenizer.tokenize(words)]\n",
    "    stoplist = stopwords.words('english')\n",
    "    tokens_stop = [w for w in tokens if w not in stoplist]\n",
    "    punctuation = set(string.punctuation)\n",
    "    tokens_clean = [w for w in tokens_stop if w not in punctuation]\n",
    "    return tokens_clean\n",
    "\n",
    "texts = [preprocess(document) for document in newsgroups_train.data]\n",
    "dictionary = corpora.Dictionary(texts)"
   ]
  },
  {
   "cell_type": "code",
   "execution_count": 14,
   "metadata": {},
   "outputs": [
    {
     "name": "stdout",
     "output_type": "stream",
     "text": [
      "Dictionary(10913 unique tokens: ['image32', 'epa', 'se400', 'easily', 'learning']...)\n"
     ]
    }
   ],
   "source": [
    "# Save dictionary\n",
    "dictionary.save('newsgroups.dict')\n",
    "print(dictionary)"
   ]
  },
  {
   "cell_type": "code",
   "execution_count": 15,
   "metadata": {},
   "outputs": [],
   "source": [
    "# Generate a list of docs where each doc is a list of words\n",
    "docs = [preprocess(doc) for doc in newsgroups_train.data]"
   ]
  },
  {
   "cell_type": "code",
   "execution_count": 16,
   "metadata": {},
   "outputs": [
    {
     "name": "stdout",
     "output_type": "stream",
     "text": [
      "Dictionary(10913 unique tokens: ['image32', 'epa', 'se400', 'easily', 'learning']...)\n"
     ]
    }
   ],
   "source": [
    "# Gensim corpora module to generate dictionary\n",
    "from gensim import corpora\n",
    "dictionary = corpora.Dictionary(docs)\n",
    "print(dictionary)"
   ]
  },
  {
   "cell_type": "code",
   "execution_count": 17,
   "metadata": {},
   "outputs": [],
   "source": [
    "# Construct the corpus representing each document as a bag-of-words\n",
    "corpus = [dictionary.doc2bow(doc) for doc in docs]"
   ]
  },
  {
   "cell_type": "code",
   "execution_count": 19,
   "metadata": {},
   "outputs": [
    {
     "name": "stdout",
     "output_type": "stream",
     "text": [
      "[(0, 0.24093628445650234), (1, 0.1598114653031772), (2, 0.5700978153855775), (3, 0.10438175896914427), (4, 0.722808853369507), (5, 0.24093628445650234)]\n"
     ]
    }
   ],
   "source": [
    "from gensim.models import TfidfModel\n",
    "# Calculate tfidfmodel\n",
    "tfidf_model = TfidfModel(corpus)\n",
    "corpus_tfidf = tfidf_model[corpus]\n",
    "print(corpus_tfidf[0])"
   ]
  },
  {
   "cell_type": "code",
   "execution_count": 35,
   "metadata": {},
   "outputs": [],
   "source": [
    "from gensim.models.ldamodel import LdaModel\n",
    "\n",
    "# train the lda model, choosing number of topics equal to 4, it takes a long time\n",
    "\n",
    "lda_model = LdaModel(corpus_tfidf, num_topics=4, passes=20, id2word=dictionary)"
   ]
  },
  {
   "cell_type": "code",
   "execution_count": 36,
   "metadata": {},
   "outputs": [
    {
     "data": {
      "text/plain": [
       "[(0,\n",
       "  '0.008*god + 0.007*moon + 0.007*cheers + 0.007*kent + 0.006*lucky + 0.006*khomeini + 0.006*davidian + 0.005*bob + 0.005*phobos + 0.005*unfortunately'),\n",
       " (1,\n",
       "  '0.009*baptist + 0.007*ns + 0.007*jeff + 0.007*mary + 0.006*crusades + 0.006*basically + 0.005*gerald + 0.005*bull + 0.005*really + 0.003*regardless'),\n",
       " (2,\n",
       "  '0.007*koresh + 0.006*bible + 0.006*zoroastrians + 0.006*joy + 0.005*ssrt + 0.005*samaritan + 0.005*happy + 0.004*septuagint + 0.004*virtual + 0.004*reality'),\n",
       " (3,\n",
       "  '0.011*targa + 0.010*whatever + 0.009*islam + 0.008*western + 0.008*thanks + 0.008*plane + 0.007*lot + 0.006*yayayay + 0.006*craig + 0.005*windows')]"
      ]
     },
     "execution_count": 36,
     "metadata": {},
     "output_type": "execute_result"
    }
   ],
   "source": [
    "# check the topics\n",
    "lda_model.print_topics(4)"
   ]
  },
  {
   "cell_type": "code",
   "execution_count": 37,
   "metadata": {},
   "outputs": [
    {
     "name": "stdout",
     "output_type": "stream",
     "text": [
      "[(0, 0.7499544926225231), (1, 0.0829040434822071), (2, 0.08314424809633292), (3, 0.08399721579893679)]\n"
     ]
    }
   ],
   "source": [
    "# check the lsa vector for the first document\n",
    "corpus_lda = lda_model[corpus_tfidf]\n",
    "print(corpus_lda[0])"
   ]
  },
  {
   "cell_type": "code",
   "execution_count": 39,
   "metadata": {},
   "outputs": [
    {
     "name": "stdout",
     "output_type": "stream",
     "text": [
      "[('lord', 1), ('god', 2)]\n"
     ]
    }
   ],
   "source": [
    "#predict topics of a new doc\n",
    "new_doc = \"God is love and God is the Lord\"\n",
    "#transform into BOW space\n",
    "bow_vector = dictionary.doc2bow(preprocess(new_doc))\n",
    "print([(dictionary[id], count) for id, count in bow_vector])"
   ]
  },
  {
   "cell_type": "code",
   "execution_count": 40,
   "metadata": {},
   "outputs": [
    {
     "name": "stdout",
     "output_type": "stream",
     "text": [
      "[(0, 0.8104287254521839), (1, 0.06352717134948714), (2, 0.06335332148949119), (3, 0.06269078170883781)]\n"
     ]
    }
   ],
   "source": [
    "#transform into LDA space\n",
    "lda_vector = lda_model[bow_vector]\n",
    "print(lda_vector)"
   ]
  },
  {
   "cell_type": "code",
   "execution_count": 41,
   "metadata": {},
   "outputs": [
    {
     "name": "stdout",
     "output_type": "stream",
     "text": [
      "0.008*god + 0.007*moon + 0.007*cheers + 0.007*kent + 0.006*lucky + 0.006*khomeini + 0.006*davidian + 0.005*bob + 0.005*phobos + 0.005*unfortunately\n"
     ]
    }
   ],
   "source": [
    "# Print document's single most prominent LDA topic\n",
    "print(lda_model.print_topic(max(lda_vector, key=lambda item: item[1])[0]))"
   ]
  },
  {
   "cell_type": "code",
   "execution_count": 42,
   "metadata": {},
   "outputs": [
    {
     "name": "stdout",
     "output_type": "stream",
     "text": [
      "[(0, 0.684280595038636), (1, 0.10542650716029629), (2, 0.10592885927926182), (3, 0.10436403852180587)]\n",
      "0.008*god + 0.007*moon + 0.007*cheers + 0.007*kent + 0.006*lucky + 0.006*khomeini + 0.006*davidian + 0.005*bob + 0.005*phobos + 0.005*unfortunately\n"
     ]
    }
   ],
   "source": [
    "lda_vector_tfidf = lda_model[tfidf_model[bow_vector]]\n",
    "print(lda_vector_tfidf)\n",
    "# print the document's single most prominent LDA topic\n",
    "print(lda_model.print_topic(max(lda_vector_tfidf, key=lambda item: item[1])[0]))"
   ]
  }
 ],
 "metadata": {
  "kernelspec": {
   "display_name": "Python 3",
   "language": "python",
   "name": "python3"
  },
  "language_info": {
   "codemirror_mode": {
    "name": "ipython",
    "version": 3
   },
   "file_extension": ".py",
   "mimetype": "text/x-python",
   "name": "python",
   "nbconvert_exporter": "python",
   "pygments_lexer": "ipython3",
   "version": "3.5.5"
  }
 },
 "nbformat": 4,
 "nbformat_minor": 2
}
