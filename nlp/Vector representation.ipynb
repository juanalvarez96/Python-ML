{
 "cells": [
  {
   "cell_type": "markdown",
   "metadata": {},
   "source": [
    "# Vector representation"
   ]
  },
  {
   "cell_type": "markdown",
   "metadata": {},
   "source": [
    "Examples:"
   ]
  },
  {
   "cell_type": "code",
   "execution_count": 1,
   "metadata": {},
   "outputs": [],
   "source": [
    "doc1 = 'Summer is coming but Summer is short'\n",
    "doc2 = 'I like the Summer and I like the Winter'\n",
    "doc3 = 'I like sandwiches and I like the Winter'\n",
    "documents = [doc1, doc2, doc3]"
   ]
  },
  {
   "cell_type": "markdown",
   "metadata": {},
   "source": [
    "Focus will be made un scikit-learn library. Pandas will also be used."
   ]
  },
  {
   "cell_type": "markdown",
   "metadata": {},
   "source": [
    "## Count vector"
   ]
  },
  {
   "cell_type": "code",
   "execution_count": 3,
   "metadata": {},
   "outputs": [
    {
     "data": {
      "text/plain": [
       "CountVectorizer(analyzer='word', binary=False, decode_error='strict',\n",
       "        dtype=<class 'numpy.int64'>, encoding='utf-8', input='content',\n",
       "        lowercase=True, max_df=1.0, max_features=5000, min_df=1,\n",
       "        ngram_range=(1, 1), preprocessor=None, stop_words=None,\n",
       "        strip_accents=None, token_pattern='(?u)\\\\b\\\\w\\\\w+\\\\b',\n",
       "        tokenizer=None, vocabulary=None)"
      ]
     },
     "execution_count": 3,
     "metadata": {},
     "output_type": "execute_result"
    }
   ],
   "source": [
    "from sklearn.feature_extraction.text import CountVectorizer\n",
    "vectorizer = CountVectorizer(analyzer='word', max_features=5000)\n",
    "vectorizer"
   ]
  },
  {
   "cell_type": "code",
   "execution_count": 6,
   "metadata": {},
   "outputs": [
    {
     "name": "stdout",
     "output_type": "stream",
     "text": [
      "[[0 1 1 2 0 0 1 2 0 0]\n",
      " [1 0 0 0 2 0 0 1 2 1]\n",
      " [1 0 0 0 2 1 0 0 1 1]]\n"
     ]
    }
   ],
   "source": [
    "vectors = vectorizer.fit_transform(documents)\n",
    "print(vectors.toarray())"
   ]
  },
  {
   "cell_type": "code",
   "execution_count": 7,
   "metadata": {},
   "outputs": [
    {
     "name": "stdout",
     "output_type": "stream",
     "text": [
      "['and', 'but', 'coming', 'is', 'like', 'sandwiches', 'short', 'summer', 'the', 'winter']\n"
     ]
    }
   ],
   "source": [
    "print(vectorizer.get_feature_names())"
   ]
  },
  {
   "cell_type": "code",
   "execution_count": 9,
   "metadata": {},
   "outputs": [
    {
     "data": {
      "text/plain": [
       "['and',\n",
       " 'but',\n",
       " 'coming',\n",
       " 'i',\n",
       " 'is',\n",
       " 'like',\n",
       " 'sandwiches',\n",
       " 'short',\n",
       " 'summer',\n",
       " 'the',\n",
       " 'winter']"
      ]
     },
     "execution_count": 9,
     "metadata": {},
     "output_type": "execute_result"
    }
   ],
   "source": [
    "vectorizer = CountVectorizer(analyzer='word', stop_words=None, token_pattern='(?u)\\\\b\\\\w+\\\\b')\n",
    "vectors = vectorizer.fit_transform(documents)\n",
    "vectorizer.get_feature_names()"
   ]
  },
  {
   "cell_type": "markdown",
   "metadata": {},
   "source": [
    "Above you can see that 'I' is now included. So, use the 'token_pattern' above used, otherwise you may miss letters.\n",
    "Next step is to filter the stop words.('and', 'but', 'i', 'is', 'the')"
   ]
  },
  {
   "cell_type": "code",
   "execution_count": 10,
   "metadata": {},
   "outputs": [
    {
     "data": {
      "text/plain": [
       "['coming', 'like', 'sandwiches', 'short', 'summer', 'winter']"
      ]
     },
     "execution_count": 10,
     "metadata": {},
     "output_type": "execute_result"
    }
   ],
   "source": [
    "vectorizer = CountVectorizer(analyzer='word', stop_words='english', token_pattern='(?u)\\\\b\\\\w+\\\\b')\n",
    "vectors = vectorizer.fit_transform(documents)\n",
    "vectorizer.get_feature_names()"
   ]
  },
  {
   "cell_type": "code",
   "execution_count": 11,
   "metadata": {},
   "outputs": [
    {
     "name": "stdout",
     "output_type": "stream",
     "text": [
      "frozenset({'keep', 'more', 'although', 'though', 'together', 'had', 'throughout', 'towards', 'twelve', 'none', 'thereafter', 'third', 'system', 'on', 'between', 'thin', 'my', 'cant', 'found', 'himself', 'eg', 'often', 'still', 'hasnt', 'because', 'either', 'seemed', 'ten', 'yourself', 'him', 'beyond', 'he', 'namely', 'part', 'her', 'whenever', 'why', 'serious', 'among', 'a', 'becomes', 'few', 'latterly', 'you', 'name', 'perhaps', 'somewhere', 'thereupon', 'wherein', 'hereby', 'nevertheless', 'fire', 'someone', 'whatever', 'than', 'cannot', 'through', 'however', 'whom', 'front', 'show', 'couldnt', 'each', 'else', 'enough', 'hence', 'describe', 'alone', 'due', 'elsewhere', 'seeming', 'thereby', 'least', 'anyhow', 'already', 'ltd', 'above', 'noone', 'top', 'indeed', 'not', 'other', 'latter', 'un', 'being', 'whence', 'at', 'such', 'fifty', 'wherever', 'do', 'bottom', 'call', 'inc', 'last', 'which', 'one', 'themselves', 'within', 'should', 'onto', 'others', 'of', 'therefore', 'never', 'almost', 'find', 'ie', 'or', 'six', 'was', 'fill', 'hereupon', 'around', 'so', 'some', 'well', 'yours', 'your', 'made', 'therein', 'itself', 'much', 'ourselves', 'eleven', 'first', 'as', 'neither', 'into', 'become', 'again', 'no', 'across', 'per', 'those', 'same', 'co', 'to', 'us', 'whereupon', 'something', 'there', 'it', 'while', 'whose', 'any', 'sometimes', 'whoever', 'twenty', 'the', 'before', 'how', 'out', 'four', 'when', 'moreover', 'and', 'forty', 'but', 'seem', 'thru', 'always', 'might', 'where', 'full', 'these', 'interest', 'during', 'up', 'its', 'am', 'yet', 'without', 'may', 'beside', 'move', 'seems', 'now', 'con', 'over', 'herein', 'in', 'also', 'been', 'former', 'nine', 'nor', 'hundred', 'several', 'me', 'for', 'thus', 'even', 'all', 'go', 'next', 'sometime', 'only', 'their', 'that', 'down', 'then', 'thick', 'everyone', 'his', 'has', 'from', 'very', 'became', 'everywhere', 'whither', 'whereas', 'are', 'anywhere', 'below', 'anything', 'be', 'off', 'could', 'take', 'beforehand', 'another', 'own', 'somehow', 'less', 'many', 'sixty', 'by', 'anyway', 'amoungst', 'i', 'eight', 'both', 'etc', 'this', 'against', 'is', 'mostly', 'behind', 'empty', 'meanwhile', 'whether', 'hers', 'must', 'will', 'detail', 'were', 'them', 'give', 'until', 'along', 'please', 'see', 'here', 'nobody', 'formerly', 'an', 'side', 'becoming', 'done', 'fifteen', 'back', 'mine', 'besides', 'everything', 'two', 'three', 'since', 'would', 'cry', 'can', 'if', 'thence', 'too', 'what', 'we', 'whereby', 'every', 'once', 'myself', 'herself', 'except', 're', 'afterwards', 'with', 'amongst', 'have', 'nowhere', 'after', 'ours', 'toward', 'whole', 'rather', 'otherwise', 'further', 'put', 'they', 'upon', 'under', 'five', 'amount', 'get', 'most', 'mill', 'who', 'hereafter', 'our', 'nothing', 'about', 'ever', 'de', 'she', 'via', 'anyone', 'whereafter', 'sincere', 'bill', 'yourselves'})\n"
     ]
    }
   ],
   "source": [
    "# stop words in scikit for english\n",
    "print(vectorizer.get_stop_words())"
   ]
  },
  {
   "cell_type": "code",
   "execution_count": 12,
   "metadata": {},
   "outputs": [
    {
     "data": {
      "text/plain": [
       "array([[1, 0, 0, 1, 2, 0],\n",
       "       [0, 2, 0, 0, 1, 1],\n",
       "       [0, 2, 1, 0, 0, 1]], dtype=int64)"
      ]
     },
     "execution_count": 12,
     "metadata": {},
     "output_type": "execute_result"
    }
   ],
   "source": [
    "# Vectors\n",
    "f_array = vectors.toarray()\n",
    "f_array"
   ]
  },
  {
   "cell_type": "markdown",
   "metadata": {},
   "source": [
    "Each word of the feature_names represent a column. The number says how many times does that word repeat in the row where it currently is. Three rows for three sentences.\n",
    "Next thing is to compute distance between vectors"
   ]
  },
  {
   "cell_type": "code",
   "execution_count": 13,
   "metadata": {},
   "outputs": [
    {
     "name": "stdout",
     "output_type": "stream",
     "text": [
      "0.6666666666666667 1.0 0.16666666666666663\n"
     ]
    }
   ],
   "source": [
    "from scipy.spatial.distance import cosine\n",
    "d12 = cosine(f_array[0], f_array[1])\n",
    "d13 = cosine(f_array[0], f_array[2])\n",
    "d23 = cosine(f_array[1], f_array[2])\n",
    "print(d12, d13, d23)"
   ]
  },
  {
   "cell_type": "markdown",
   "metadata": {},
   "source": [
    "## Binary vectors\n",
    "You may as well transform a given vector into a binary"
   ]
  },
  {
   "cell_type": "code",
   "execution_count": 14,
   "metadata": {},
   "outputs": [
    {
     "data": {
      "text/plain": [
       "['coming', 'like', 'sandwiches', 'short', 'summer', 'winter']"
      ]
     },
     "execution_count": 14,
     "metadata": {},
     "output_type": "execute_result"
    }
   ],
   "source": [
    "vectorizer = CountVectorizer(analyzer='word', stop_words='english', binary=True)\n",
    "vectors = vectorizer.fit_transform(documents)\n",
    "vectorizer.get_feature_names()"
   ]
  },
  {
   "cell_type": "code",
   "execution_count": 15,
   "metadata": {},
   "outputs": [
    {
     "data": {
      "text/plain": [
       "array([[1, 0, 0, 1, 1, 0],\n",
       "       [0, 1, 0, 0, 1, 1],\n",
       "       [0, 1, 1, 0, 0, 1]], dtype=int64)"
      ]
     },
     "execution_count": 15,
     "metadata": {},
     "output_type": "execute_result"
    }
   ],
   "source": [
    "vectors.toarray()"
   ]
  },
  {
   "cell_type": "code",
   "execution_count": null,
   "metadata": {},
   "outputs": [],
   "source": []
  }
 ],
 "metadata": {
  "kernelspec": {
   "display_name": "Python 3",
   "language": "python",
   "name": "python3"
  },
  "language_info": {
   "codemirror_mode": {
    "name": "ipython",
    "version": 3
   },
   "file_extension": ".py",
   "mimetype": "text/x-python",
   "name": "python",
   "nbconvert_exporter": "python",
   "pygments_lexer": "ipython3",
   "version": "3.5.5"
  }
 },
 "nbformat": 4,
 "nbformat_minor": 2
}
