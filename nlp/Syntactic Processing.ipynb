{
 "cells": [
  {
   "cell_type": "code",
   "execution_count": 1,
   "metadata": {},
   "outputs": [],
   "source": [
    "# Syntactic processing"
   ]
  },
  {
   "cell_type": "code",
   "execution_count": 2,
   "metadata": {},
   "outputs": [],
   "source": [
    "# Objectives:\n",
    "# 1. Part of Speech tagging (POS)\n",
    "# 2. Named Entity Recognition (NER)\n",
    "# 3. Text parsing"
   ]
  },
  {
   "cell_type": "code",
   "execution_count": 3,
   "metadata": {},
   "outputs": [],
   "source": [
    "# Examples\n",
    "review = \"\"\"I purchased this Dell monitor because of budgetary concerns. This item was the most inexpensive 17 inch Apple monitor \n",
    "available to me at the time I made the purchase. My overall experience with this monitor was very poor. When the \n",
    "screen  wasn't contracting or glitching the overall picture quality was poor to fair. I've viewed numerous different \n",
    "monitor models since I 'm a college student at UPM in Madrid and this particular monitor had as poor of picture quality as \n",
    "any I 've seen.\"\"\"\n",
    "\n",
    "tweet = \"\"\"@concert Lady Gaga is actually at the Britney Spears Femme Fatale Concert tonight!!! She still listens to \n",
    "        her music!!!! WOW!!! #ladygaga #britney\"\"\""
   ]
  },
  {
   "cell_type": "code",
   "execution_count": 4,
   "metadata": {},
   "outputs": [
    {
     "name": "stdout",
     "output_type": "stream",
     "text": [
      "[('I', 'PRON'), ('purchased', 'VERB'), ('this', 'DET'), ('Dell', 'NOUN'), ('monitor', 'NOUN'), ('because', 'ADP'), ('of', 'ADP'), ('budgetary', 'ADJ'), ('concerns', 'NOUN'), ('.', '.'), ('This', 'DET'), ('item', 'NOUN'), ('was', 'VERB'), ('the', 'DET'), ('most', 'ADV'), ('inexpensive', 'ADJ'), ('17', 'NUM'), ('inch', 'NOUN'), ('Apple', 'NOUN'), ('monitor', 'NOUN'), ('available', 'ADJ'), ('to', 'PRT'), ('me', 'PRON'), ('at', 'ADP'), ('the', 'DET'), ('time', 'NOUN'), ('I', 'PRON'), ('made', 'VERB'), ('the', 'DET'), ('purchase', 'NOUN'), ('.', '.'), ('My', 'PRON'), ('overall', 'ADJ'), ('experience', 'NOUN'), ('with', 'ADP'), ('this', 'DET'), ('monitor', 'NOUN'), ('was', 'VERB'), ('very', 'ADV'), ('poor', 'ADJ'), ('.', '.'), ('When', 'ADV'), ('the', 'DET'), ('screen', 'NOUN'), ('was', 'VERB'), (\"n't\", 'ADV'), ('contracting', 'VERB'), ('or', 'CONJ'), ('glitching', 'VERB'), ('the', 'DET'), ('overall', 'ADJ'), ('picture', 'NOUN'), ('quality', 'NOUN'), ('was', 'VERB'), ('poor', 'ADJ'), ('to', 'PRT'), ('fair', 'VERB'), ('.', '.'), ('I', 'PRON'), (\"'ve\", 'VERB'), ('viewed', 'VERB'), ('numerous', 'ADJ'), ('different', 'ADJ'), ('monitor', 'NOUN'), ('models', 'NOUN'), ('since', 'ADP'), ('I', 'PRON'), (\"'m\", 'VERB'), ('a', 'DET'), ('college', 'NOUN'), ('student', 'NOUN'), ('at', 'ADP'), ('UPM', 'NOUN'), ('in', 'ADP'), ('Madrid', 'NOUN'), ('and', 'CONJ'), ('this', 'DET'), ('particular', 'ADJ'), ('monitor', 'NOUN'), ('had', 'VERB'), ('as', 'ADP'), ('poor', 'ADJ'), ('of', 'ADP'), ('picture', 'NOUN'), ('quality', 'NOUN'), ('as', 'ADP'), ('any', 'DET'), ('I', 'PRON'), (\"'ve\", 'VERB'), ('seen', 'VERB'), ('.', '.')]\n"
     ]
    }
   ],
   "source": [
    "# POS. Use grammatical characteristic of words as assignment\n",
    "from nltk import pos_tag, word_tokenize\n",
    "print (pos_tag(word_tokenize(review), tagset='universal'))"
   ]
  },
  {
   "cell_type": "code",
   "execution_count": 5,
   "metadata": {},
   "outputs": [
    {
     "name": "stdout",
     "output_type": "stream",
     "text": [
      "[('I', 'PRON'), ('purchased', 'VERB'), ('this', 'DET'), ('Dell', 'NOUN'), ('monitor', 'NOUN'), ('because', 'ADP'), ('of', 'ADP'), ('budgetary', 'ADJ'), ('concerns', 'NOUN'), ('.', '.'), ('This', 'DET'), ('item', 'NOUN'), ('was', 'VERB'), ('the', 'DET'), ('most', 'ADV'), ('inexpensive', 'ADJ'), ('17', 'NUM'), ('inch', 'NOUN'), ('Apple', 'NOUN'), ('monitor', 'NOUN'), ('available', 'ADJ'), ('to', 'PRT'), ('me', 'PRON'), ('at', 'ADP'), ('the', 'DET'), ('time', 'NOUN'), ('I', 'PRON'), ('made', 'VERB'), ('the', 'DET'), ('purchase', 'NOUN'), ('.', '.'), ('My', 'PRON'), ('overall', 'ADJ'), ('experience', 'NOUN'), ('with', 'ADP'), ('this', 'DET'), ('monitor', 'NOUN'), ('was', 'VERB'), ('very', 'ADV'), ('poor', 'ADJ'), ('.', '.'), ('When', 'ADV'), ('the', 'DET'), ('screen', 'NOUN'), ('was', 'VERB'), (\"n't\", 'ADV'), ('contracting', 'VERB'), ('or', 'CONJ'), ('glitching', 'VERB'), ('the', 'DET'), ('overall', 'ADJ'), ('picture', 'NOUN'), ('quality', 'NOUN'), ('was', 'VERB'), ('poor', 'ADJ'), ('to', 'PRT'), ('fair', 'VERB'), ('.', '.'), ('I', 'PRON'), (\"'ve\", 'VERB'), ('viewed', 'VERB'), ('numerous', 'ADJ'), ('different', 'ADJ'), ('monitor', 'NOUN'), ('models', 'NOUN'), ('since', 'ADP'), ('I', 'PRON'), (\"'m\", 'VERB'), ('a', 'DET'), ('college', 'NOUN'), ('student', 'NOUN'), ('at', 'ADP'), ('UPM', 'NOUN'), ('in', 'ADP'), ('Madrid', 'NOUN'), ('and', 'CONJ'), ('this', 'DET'), ('particular', 'ADJ'), ('monitor', 'NOUN'), ('had', 'VERB'), ('as', 'ADP'), ('poor', 'ADJ'), ('of', 'ADP'), ('picture', 'NOUN'), ('quality', 'NOUN'), ('as', 'ADP'), ('any', 'DET'), ('I', 'PRON'), (\"'ve\", 'VERB'), ('seen', 'VERB'), ('.', '.')]\n"
     ]
    }
   ],
   "source": [
    "print(pos_tag(word_tokenize(review), tagset='universal'))"
   ]
  },
  {
   "cell_type": "code",
   "execution_count": 6,
   "metadata": {},
   "outputs": [
    {
     "name": "stdout",
     "output_type": "stream",
     "text": [
      "['I', 'purchase', 'Dell', 'monitor', 'because', 'of', 'budgetary', 'concern', 'item', 'be', 'most', 'inexpensive', '17', 'inch', 'Apple', 'monitor', 'available', 'me', 'at', 'time', 'I', 'make', 'purchase', 'My', 'overall', 'experience', 'with', 'monitor', 'be', 'very', 'poor', 'When', 'screen', 'be', \"n't\", 'contract', 'or', 'glitching', 'overall', 'picture', 'quality', 'be', 'poor', 'fair', 'I', \"'ve\", 'view', 'numerous', 'different', 'monitor', 'model', 'since', 'I', \"'m\", 'college', 'student', 'at', 'UPM', 'in', 'Madrid', 'and', 'particular', 'monitor', 'have', 'a', 'poor', 'of', 'picture', 'quality', 'a', 'I', \"'ve\", 'see']\n"
     ]
    }
   ],
   "source": [
    "# Universal tagset\n",
    "from nltk.stem import WordNetLemmatizer\n",
    "\n",
    "review_postagged = pos_tag(word_tokenize(review), tagset='universal')\n",
    "pos_mapping = {'NOUN':'n', 'ADJ':'a', 'VERB':'v','ADV': 'r', 'ADP': 'n', 'CONJ': 'n', \n",
    "               'PRON': 'n', 'NUM': 'n', 'X': 'n'}\n",
    "wordnet = WordNetLemmatizer()\n",
    "lemmas = [wordnet.lemmatize(w, pos=pos_mapping[tag]) for (w, tag) in review_postagged if tag in pos_mapping.keys()]\n",
    "print(lemmas)"
   ]
  },
  {
   "cell_type": "code",
   "execution_count": 7,
   "metadata": {},
   "outputs": [],
   "source": [
    "# Sentence is lemmatized (see verbs and ommission of some words)"
   ]
  },
  {
   "cell_type": "code",
   "execution_count": 8,
   "metadata": {},
   "outputs": [],
   "source": [
    "# NER: Named Entity Recognition"
   ]
  },
  {
   "cell_type": "code",
   "execution_count": 9,
   "metadata": {},
   "outputs": [
    {
     "name": "stdout",
     "output_type": "stream",
     "text": [
      "(S\n",
      "  I/PRP\n",
      "  purchased/VBD\n",
      "  this/DT\n",
      "  (ORGANIZATION Dell/NNP)\n",
      "  monitor/NN\n",
      "  because/IN\n",
      "  of/IN\n",
      "  budgetary/JJ\n",
      "  concerns/NNS\n",
      "  ./.\n",
      "  This/DT\n",
      "  item/NN\n",
      "  was/VBD\n",
      "  the/DT\n",
      "  most/RBS\n",
      "  inexpensive/JJ\n",
      "  17/CD\n",
      "  inch/NN\n",
      "  Apple/NNP\n",
      "  monitor/NN\n",
      "  available/JJ\n",
      "  to/TO\n",
      "  me/PRP\n",
      "  at/IN\n",
      "  the/DT\n",
      "  time/NN\n",
      "  I/PRP\n",
      "  made/VBD\n",
      "  the/DT\n",
      "  purchase/NN\n",
      "  ./.\n",
      "  My/PRP$\n",
      "  overall/JJ\n",
      "  experience/NN\n",
      "  with/IN\n",
      "  this/DT\n",
      "  monitor/NN\n",
      "  was/VBD\n",
      "  very/RB\n",
      "  poor/JJ\n",
      "  ./.\n",
      "  When/WRB\n",
      "  the/DT\n",
      "  screen/NN\n",
      "  was/VBD\n",
      "  n't/RB\n",
      "  contracting/VBG\n",
      "  or/CC\n",
      "  glitching/VBG\n",
      "  the/DT\n",
      "  overall/JJ\n",
      "  picture/NN\n",
      "  quality/NN\n",
      "  was/VBD\n",
      "  poor/JJ\n",
      "  to/TO\n",
      "  fair/VB\n",
      "  ./.\n",
      "  I/PRP\n",
      "  've/VBP\n",
      "  viewed/VBN\n",
      "  numerous/JJ\n",
      "  different/JJ\n",
      "  monitor/NN\n",
      "  models/NNS\n",
      "  since/IN\n",
      "  I/PRP\n",
      "  'm/VBP\n",
      "  a/DT\n",
      "  college/NN\n",
      "  student/NN\n",
      "  at/IN\n",
      "  (ORGANIZATION UPM/NNP)\n",
      "  in/IN\n",
      "  (GPE Madrid/NNP)\n",
      "  and/CC\n",
      "  this/DT\n",
      "  particular/JJ\n",
      "  monitor/NN\n",
      "  had/VBD\n",
      "  as/IN\n",
      "  poor/JJ\n",
      "  of/IN\n",
      "  picture/NN\n",
      "  quality/NN\n",
      "  as/IN\n",
      "  any/DT\n",
      "  I/PRP\n",
      "  've/VBP\n",
      "  seen/VBN\n",
      "  ./.)\n"
     ]
    }
   ],
   "source": [
    "from nltk import ne_chunk, pos_tag, word_tokenize\n",
    "ne_tagged = ne_chunk(pos_tag(word_tokenize(review)), binary=False)\n",
    "print(ne_tagged)"
   ]
  },
  {
   "cell_type": "code",
   "execution_count": 10,
   "metadata": {},
   "outputs": [],
   "source": [
    "# To understand relationship between words->parsing\n",
    "# Parser #1: Shift-reduce (botton-up)\n",
    "# Parser #2: Recursive descent(top-down)"
   ]
  },
  {
   "cell_type": "code",
   "execution_count": 11,
   "metadata": {},
   "outputs": [],
   "source": [
    "from nltk.app import srparser_app\n",
    "#srparser_app.app()"
   ]
  },
  {
   "cell_type": "code",
   "execution_count": 12,
   "metadata": {},
   "outputs": [],
   "source": [
    "from nltk.app import rdparser_app\n",
    "#rdparser_app.app()"
   ]
  },
  {
   "cell_type": "code",
   "execution_count": 13,
   "metadata": {},
   "outputs": [],
   "source": [
    "# Chunking or shallow parsing"
   ]
  },
  {
   "cell_type": "markdown",
   "metadata": {},
   "source": [
    "d"
   ]
  },
  {
   "cell_type": "code",
   "execution_count": 14,
   "metadata": {},
   "outputs": [
    {
     "name": "stdout",
     "output_type": "stream",
     "text": [
      "(S\n",
      "  I/PRON\n",
      "  purchased/VERB\n",
      "  (NP this/DET Dell/NOUN monitor/NOUN)\n",
      "  because/ADP\n",
      "  of/ADP\n",
      "  (NP budgetary/ADJ concerns/NOUN)\n",
      "  ./.\n",
      "  (NP This/DET item/NOUN)\n",
      "  was/VERB\n",
      "  (NP\n",
      "    the/DET\n",
      "    most/ADV\n",
      "    inexpensive/ADJ\n",
      "    17/NUM\n",
      "    inch/NOUN\n",
      "    Apple/NOUN\n",
      "    monitor/NOUN)\n",
      "  available/ADJ\n",
      "  to/PRT\n",
      "  me/PRON\n",
      "  at/ADP\n",
      "  (NP the/DET time/NOUN)\n",
      "  I/PRON\n",
      "  made/VERB\n",
      "  (NP the/DET purchase/NOUN)\n",
      "  ./.\n",
      "  (NP My/PRON overall/ADJ experience/NOUN)\n",
      "  with/ADP\n",
      "  (NP this/DET monitor/NOUN)\n",
      "  was/VERB\n",
      "  very/ADV\n",
      "  poor/ADJ\n",
      "  ./.\n",
      "  When/ADV\n",
      "  (NP the/DET screen/NOUN)\n",
      "  was/VERB\n",
      "  n't/ADV\n",
      "  contracting/VERB\n",
      "  or/CONJ\n",
      "  glitching/VERB\n",
      "  (NP the/DET overall/ADJ picture/NOUN quality/NOUN)\n",
      "  was/VERB\n",
      "  poor/ADJ\n",
      "  to/PRT\n",
      "  fair/VERB\n",
      "  ./.\n",
      "  I/PRON\n",
      "  've/VERB\n",
      "  viewed/VERB\n",
      "  (NP numerous/ADJ different/ADJ monitor/NOUN models/NOUN)\n",
      "  since/ADP\n",
      "  I/PRON\n",
      "  'm/VERB\n",
      "  (NP a/DET college/NOUN student/NOUN)\n",
      "  at/ADP\n",
      "  (NP UPM/NOUN)\n",
      "  in/ADP\n",
      "  (NP Madrid/NOUN)\n",
      "  and/CONJ\n",
      "  (NP this/DET particular/ADJ monitor/NOUN)\n",
      "  had/VERB\n",
      "  as/ADP\n",
      "  poor/ADJ\n",
      "  of/ADP\n",
      "  (NP picture/NOUN quality/NOUN)\n",
      "  as/ADP\n",
      "  any/DET\n",
      "  I/PRON\n",
      "  've/VERB\n",
      "  seen/VERB\n",
      "  ./.)\n"
     ]
    },
    {
     "ename": "SystemExit",
     "evalue": "0",
     "output_type": "error",
     "traceback": [
      "An exception has occurred, use %tb to see the full traceback.\n",
      "\u001b[0;31mSystemExit\u001b[0m\u001b[0;31m:\u001b[0m 0\n"
     ]
    },
    {
     "name": "stderr",
     "output_type": "stream",
     "text": [
      "/anaconda3/lib/python3.5/site-packages/IPython/core/interactiveshell.py:2969: UserWarning: To exit: use 'exit', 'quit', or Ctrl-D.\n",
      "  warn(\"To exit: use 'exit', 'quit', or Ctrl-D.\", stacklevel=1)\n"
     ]
    }
   ],
   "source": [
    "# 1. Using regular expressions\n",
    "\n",
    "from nltk.chunk.regexp import *\n",
    "pattern= \"\"\"NP: {<PRON><ADJ><NOUN>+} \n",
    "                 {<DET>?<ADV>?<ADJ|NUM>*?<NOUN>+}\n",
    "                 \"\"\"\n",
    "NPChunker = RegexpParser(pattern)\n",
    "\n",
    "reviews_pos = (pos_tag(word_tokenize(review), tagset='universal'))\n",
    "\n",
    "chunks_np = NPChunker.parse(reviews_pos)\n",
    "print(chunks_np)\n",
    "chunks_np.draw()"
   ]
  },
  {
   "cell_type": "code",
   "execution_count": null,
   "metadata": {},
   "outputs": [],
   "source": []
  },
  {
   "cell_type": "code",
   "execution_count": null,
   "metadata": {},
   "outputs": [],
   "source": []
  },
  {
   "cell_type": "code",
   "execution_count": null,
   "metadata": {},
   "outputs": [],
   "source": []
  }
 ],
 "metadata": {
  "kernelspec": {
   "display_name": "Python 3",
   "language": "python",
   "name": "python3"
  },
  "language_info": {
   "codemirror_mode": {
    "name": "ipython",
    "version": 3
   },
   "file_extension": ".py",
   "mimetype": "text/x-python",
   "name": "python",
   "nbconvert_exporter": "python",
   "pygments_lexer": "ipython3",
   "version": "3.5.5"
  }
 },
 "nbformat": 4,
 "nbformat_minor": 2
}
